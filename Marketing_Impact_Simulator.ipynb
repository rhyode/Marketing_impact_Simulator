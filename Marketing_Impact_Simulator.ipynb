{
  "nbformat": 4,
  "nbformat_minor": 0,
  "metadata": {
    "colab": {
      "provenance": []
    },
    "kernelspec": {
      "name": "python3",
      "display_name": "Python 3"
    },
    "language_info": {
      "name": "python"
    }
  },
  "cells": [
    {
      "cell_type": "markdown",
      "source": [
        "# Marketing Campaign Impact Simulator"
      ],
      "metadata": {
        "id": "rqoXjGaPzTlS"
      }
    },
    {
      "cell_type": "markdown",
      "source": [
        "Overview: This project models sales from ad spend (TV, Radio, Newspaper) using linear regression, simulates a 20% TV budget increase, and optimizes a $100 budget for max ROI. Built for ZS Decision Analytics role."
      ],
      "metadata": {
        "id": "D0pqHyOSzmk1"
      }
    },
    {
      "cell_type": "code",
      "execution_count": null,
      "metadata": {
        "id": "TSkEGsvepl5_"
      },
      "outputs": [],
      "source": [
        "import zipfile\n",
        "with zipfile.ZipFile('archive.zip', 'r') as zip_ref:\n",
        "    zip_ref.extractall()\n"
      ]
    },
    {
      "cell_type": "code",
      "source": [
        "import zipfile\n",
        "with zipfile.ZipFile('archive.zip', 'r') as zip_ref:\n",
        "    zip_ref.extractall()\n",
        "\n",
        "import pandas as pd\n",
        "data = pd.read_csv('advertising.csv')  # Confirm filename matches the extracted file\n",
        "print(data.head())"
      ],
      "metadata": {
        "colab": {
          "base_uri": "https://localhost:8080/"
        },
        "id": "VaKdOHTJwnRp",
        "outputId": "d1611458-d4fb-4f34-f0d1-0a820b5d3d48"
      },
      "execution_count": null,
      "outputs": [
        {
          "output_type": "stream",
          "name": "stdout",
          "text": [
            "      TV  Radio  Newspaper  Sales\n",
            "0  230.1   37.8       69.2   22.1\n",
            "1   44.5   39.3       45.1   10.4\n",
            "2   17.2   45.9       69.3   12.0\n",
            "3  151.5   41.3       58.5   16.5\n",
            "4  180.8   10.8       58.4   17.9\n"
          ]
        }
      ]
    },
    {
      "cell_type": "code",
      "source": [
        "from sklearn.linear_model import LinearRegression\n",
        "from sklearn.model_selection import train_test_split\n",
        "from sklearn.metrics import r2_score\n",
        "\n",
        "# Prepare features and target\n",
        "X = data[['TV', 'Radio', 'Newspaper']]\n",
        "y = data['Sales']\n",
        "\n",
        "# Split data\n",
        "X_train, X_test, y_train, y_test = train_test_split(X, y, test_size=0.2, random_state=42)\n",
        "\n",
        "# Train model\n",
        "model = LinearRegression()\n",
        "model.fit(X_train, y_train)\n",
        "\n",
        "# Evaluate\n",
        "y_pred = model.predict(X_test)\n",
        "r2 = r2_score(y_test, y_pred)\n",
        "print(f\"R-squared score: {r2:.2f}\")"
      ],
      "metadata": {
        "colab": {
          "base_uri": "https://localhost:8080/"
        },
        "id": "zE9yXm1rxtZN",
        "outputId": "dd6c5373-7f98-48e5-bc83-06d80a25e686"
      },
      "execution_count": null,
      "outputs": [
        {
          "output_type": "stream",
          "name": "stdout",
          "text": [
            "R-squared score: 0.91\n"
          ]
        }
      ]
    },
    {
      "cell_type": "code",
      "source": [
        "import numpy as np\n",
        "# Create new data for simulation\n",
        "new_data = X_test.copy()\n",
        "new_data['TV'] = new_data['TV'] * 1.20  # 20% increase\n",
        "\n",
        "# Predict new sales\n",
        "simulated_sales = model.predict(new_data)\n",
        "original_sales = model.predict(X_test)\n",
        "print(f\"Average sales increase with 20% TV boost: {(simulated_sales.mean() - original_sales.mean()):.2f}\")"
      ],
      "metadata": {
        "colab": {
          "base_uri": "https://localhost:8080/"
        },
        "id": "XbFWA8QcydaV",
        "outputId": "8dff336f-1323-41eb-f098-ded24f792263"
      },
      "execution_count": null,
      "outputs": [
        {
          "output_type": "stream",
          "name": "stdout",
          "text": [
            "Average sales increase with 20% TV boost: 1.47\n"
          ]
        }
      ]
    },
    {
      "cell_type": "code",
      "source": [
        "from scipy.optimize import minimize\n",
        "\n",
        "# Define objective function (negative sales to maximize)\n",
        "def objective(weights):\n",
        "    spend = np.array(weights) * 100  # Allocate $100\n",
        "    X_opt = X_test.copy()\n",
        "    X_opt['TV'] = spend[0]\n",
        "    X_opt['Radio'] = spend[1]\n",
        "    X_opt['Newspaper'] = spend[2]\n",
        "    return -model.predict(X_opt).mean()  # Negative for maximization\n",
        "\n",
        "# Constraints (sum to 1 for 100% budget)\n",
        "constraints = ({'type': 'eq', 'fun': lambda x: np.sum(x) - 1})\n",
        "bounds = [(0, 1)] * 3  # 0-100% per channel\n",
        "initial_guess = [1/3, 1/3, 1/3]\n",
        "\n",
        "# Optimize\n",
        "result = minimize(objective, initial_guess, bounds=bounds, constraints=constraints)\n",
        "optimal_weights = result.x\n",
        "print(f\"Optimal budget split (TV, Radio, Newspaper): {[f'{w*100:.1f}%' for w in optimal_weights]}\")"
      ],
      "metadata": {
        "colab": {
          "base_uri": "https://localhost:8080/"
        },
        "id": "Bu_GJ9DwymLj",
        "outputId": "10698d7e-d87e-4301-8b44-4a399850979d"
      },
      "execution_count": null,
      "outputs": [
        {
          "output_type": "stream",
          "name": "stdout",
          "text": [
            "Optimal budget split (TV, Radio, Newspaper): ['0.0%', '100.0%', '0.0%']\n"
          ]
        }
      ]
    },
    {
      "cell_type": "code",
      "source": [
        "import matplotlib.pyplot as plt\n",
        "import seaborn as sns\n",
        "\n",
        "plt.figure(figsize=(10, 5))\n",
        "plt.subplot(1, 2, 1)\n",
        "plt.scatter(original_sales, simulated_sales, alpha=0.5)\n",
        "plt.plot([min(original_sales), max(original_sales)], [min(original_sales), max(original_sales)], 'r--')\n",
        "plt.xlabel('Original Sales')\n",
        "plt.ylabel('Simulated Sales')\n",
        "plt.title('Sales with 20% TV Increase')\n",
        "\n",
        "plt.subplot(1, 2, 2)\n",
        "plt.bar(['TV', 'Radio', 'Newspaper'], optimal_weights*100)\n",
        "plt.title('Optimal Budget Allocation (%)')\n",
        "plt.tight_layout()\n",
        "plt.show()"
      ],
      "metadata": {
        "colab": {
          "base_uri": "https://localhost:8080/",
          "height": 507
        },
        "id": "VsqbrVLfyn-P",
        "outputId": "a2f1ac62-d91d-4c99-92cc-c4b7a6a009af"
      },
      "execution_count": null,
      "outputs": [
        {
          "output_type": "display_data",
          "data": {
            "text/plain": [
              "<Figure size 1000x500 with 2 Axes>"
            ],
            "image/png": "[encoded data removed]"
          },
          "metadata": {}
        }
      ]
    },
    {
      "cell_type": "code",
      "source": [
        "results = pd.DataFrame({\n",
        "    'Original_Sales': original_sales,\n",
        "    'Simulated_Sales': simulated_sales,\n",
        "    'Optimal_TV%': optimal_weights[0]*100,\n",
        "    'Optimal_Radio%': optimal_weights[1]*100,\n",
        "    'Optimal_Newspaper%': optimal_weights[2]*100\n",
        "})\n",
        "results.to_excel('marketing_impact_results.xlsx', index=False)\n",
        "files.download('marketing_impact_results.xlsx')\n"
      ],
      "metadata": {
        "colab": {
          "base_uri": "https://localhost:8080/",
          "height": 17
        },
        "id": "v3x0RoX-zJWe",
        "outputId": "70910aaa-ebb1-45f6-a512-f677f0359130"
      },
      "execution_count": null,
      "outputs": [
        {
          "output_type": "display_data",
          "data": {
            "text/plain": [
              "<IPython.core.display.Javascript object>"
            ],
            "application/javascript": [
              "\n",
              "    async function download(id, filename, size) {\n",
              "      if (!google.colab.kernel.accessAllowed) {\n",
              "        return;\n",
              "      }\n",
              "      const div = document.createElement('div');\n",
              "      const label = document.createElement('label');\n",
              "      label.textContent = `Downloading \"${filename}\": `;\n",
              "      div.appendChild(label);\n",
              "      const progress = document.createElement('progress');\n",
              "      progress.max = size;\n",
              "      div.appendChild(progress);\n",
              "      document.body.appendChild(div);\n",
              "\n",
              "      const buffers = [];\n",
              "      let downloaded = 0;\n",
              "\n",
              "      const channel = await google.colab.kernel.comms.open(id);\n",
              "      // Send a message to notify the kernel that we're ready.\n",
              "      channel.send({})\n",
              "\n",
              "      for await (const message of channel.messages) {\n",
              "        // Send a message to notify the kernel that we're ready.\n",
              "        channel.send({})\n",
              "        if (message.buffers) {\n",
              "          for (const buffer of message.buffers) {\n",
              "            buffers.push(buffer);\n",
              "            downloaded += buffer.byteLength;\n",
              "            progress.value = downloaded;\n",
              "          }\n",
              "        }\n",
              "      }\n",
              "      const blob = new Blob(buffers, {type: 'application/binary'});\n",
              "      const a = document.createElement('a');\n",
              "      a.href = window.URL.createObjectURL(blob);\n",
              "      a.download = filename;\n",
              "      div.appendChild(a);\n",
              "      a.click();\n",
              "      div.remove();\n",
              "    }\n",
              "  "
            ]
          },
          "metadata": {}
        },
        {
          "output_type": "display_data",
          "data": {
            "text/plain": [
              "<IPython.core.display.Javascript object>"
            ],
            "application/javascript": [
              "download(\"download_e687beb4-62a7-4426-9639-335ba7d81285\", \"marketing_impact_results.xlsx\", 6638)"
            ]
          },
          "metadata": {}
        }
      ]
    },
    {
      "cell_type": "markdown",
      "source": [
        "Insights: Simulation shows a ~X sales uplift; optimal budget favors TV at X%."
      ],
      "metadata": {
        "id": "ctjH5liyz3iC"
      }
    },
    {
      "cell_type": "code",
      "source": [
        "print(f\"Average sales increase with 20% TV boost: {(simulated_sales.mean() - original_sales.mean()):.2f}\")\n",
        "\n"
      ],
      "metadata": {
        "colab": {
          "base_uri": "https://localhost:8080/"
        },
        "id": "xi43q2gZ3_Tg",
        "outputId": "64442e86-7626-43be-986c-31c091a56316"
      },
      "execution_count": null,
      "outputs": [
        {
          "output_type": "stream",
          "name": "stdout",
          "text": [
            "Average sales increase with 20% TV boost: 1.47\n"
          ]
        }
      ]
    },
    {
      "cell_type": "code",
      "source": [
        "tv_pct, radio_pct, newsp_pct = (optimal_weights * 100)\n",
        "print(f\"Optimal budget split (TV, Radio, Newspaper): TV = {tv_pct:.1f}%, Radio = {radio_pct:.1f}%, Newspaper = {newsp_pct:.1f}%\")\n"
      ],
      "metadata": {
        "colab": {
          "base_uri": "https://localhost:8080/"
        },
        "id": "WG1RDGTh4HuR",
        "outputId": "65cc9176-19b3-4eea-f73f-873ccb3a086f"
      },
      "execution_count": null,
      "outputs": [
        {
          "output_type": "stream",
          "name": "stdout",
          "text": [
            "Optimal budget split (TV, Radio, Newspaper): TV = 0.0%, Radio = 100.0%, Newspaper = 0.0%\n"
          ]
        }
      ]
    },
    {
      "cell_type": "code",
      "source": [
        "print(\"Linear model coefficients:\", model.coef_)\n",
        "print(\"Order: TV, Radio, Newspaper\")\n"
      ],
      "metadata": {
        "id": "PV7LC2ql4jXT",
        "outputId": "030524c8-b030-42a3-f45e-10bce637bf3e",
        "colab": {
          "base_uri": "https://localhost:8080/"
        }
      },
      "execution_count": null,
      "outputs": [
        {
          "output_type": "stream",
          "name": "stdout",
          "text": [
            "Linear model coefficients: [0.05450927 0.10094536 0.00433665]\n",
            "Order: TV, Radio, Newspaper\n"
          ]
        }
      ]
    },
    {
      "cell_type": "code",
      "source": [
        "from google.colab import files\n",
        "uploaded = files.upload()\n",
        "\n"
      ],
      "metadata": {
        "colab": {
          "base_uri": "https://localhost:8080/",
          "height": 74
        },
        "id": "t9FA946LD_cn",
        "outputId": "2819ce54-2a69-4dc9-f3c9-fcf9060305f2"
      },
      "execution_count": 2,
      "outputs": [
        {
          "output_type": "display_data",
          "data": {
            "text/plain": [
              "<IPython.core.display.HTML object>"
            ],
            "text/html": [
              "\n",
              "     <input type=\"file\" id=\"files-6cca5cf0-aa10-47ee-adf3-648c34fbd20d\" name=\"files[]\" multiple disabled\n",
              "        style=\"border:none\" />\n",
              "     <output id=\"result-6cca5cf0-aa10-47ee-adf3-648c34fbd20d\">\n",
              "      Upload widget is only available when the cell has been executed in the\n",
              "      current browser session. Please rerun this cell to enable.\n",
              "      </output>\n",
              "      <script>// Copyright 2017 Google LLC\n",
              "//\n",
              "// Licensed under the Apache License, Version 2.0 (the \"License\");\n",
              "// you may not use this file except in compliance with the License.\n",
              "// You may obtain a copy of the License at\n",
              "//\n",
              "//      http://www.apache.org/licenses/LICENSE-2.0\n",
              "//\n",
              "// Unless required by applicable law or agreed to in writing, software\n",
              "// distributed under the License is distributed on an \"AS IS\" BASIS,\n",
              "// WITHOUT WARRANTIES OR CONDITIONS OF ANY KIND, either express or implied.\n",
              "// See the License for the specific language governing permissions and\n",
              "// limitations under the License.\n",
              "\n",
              "/**\n",
              " * @fileoverview Helpers for google.colab Python module.\n",
              " */\n",
              "(function(scope) {\n",
              "function span(text, styleAttributes = {}) {\n",
              "  const element = document.createElement('span');\n",
              "  element.textContent = text;\n",
              "  for (const key of Object.keys(styleAttributes)) {\n",
              "    element.style[key] = styleAttributes[key];\n",
              "  }\n",
              "  return element;\n",
              "}\n",
              "\n",
              "// Max number of bytes which will be uploaded at a time.\n",
              "const MAX_PAYLOAD_SIZE = 100 * 1024;\n",
              "\n",
              "function _uploadFiles(inputId, outputId) {\n",
              "  const steps = uploadFilesStep(inputId, outputId);\n",
              "  const outputElement = document.getElementById(outputId);\n",
              "  // Cache steps on the outputElement to make it available for the next call\n",
              "  // to uploadFilesContinue from Python.\n",
              "  outputElement.steps = steps;\n",
              "\n",
              "  return _uploadFilesContinue(outputId);\n",
              "}\n",
              "\n",
              "// This is roughly an async generator (not supported in the browser yet),\n",
              "// where there are multiple asynchronous steps and the Python side is going\n",
              "// to poll for completion of each step.\n",
              "// This uses a Promise to block the python side on completion of each step,\n",
              "// then passes the result of the previous step as the input to the next step.\n",
              "function _uploadFilesContinue(outputId) {\n",
              "  const outputElement = document.getElementById(outputId);\n",
              "  const steps = outputElement.steps;\n",
              "\n",
              "  const next = steps.next(outputElement.lastPromiseValue);\n",
              "  return Promise.resolve(next.value.promise).then((value) => {\n",
              "    // Cache the last promise value to make it available to the next\n",
              "    // step of the generator.\n",
              "    outputElement.lastPromiseValue = value;\n",
              "    return next.value.response;\n",
              "  });\n",
              "}\n",
              "\n",
              "/**\n",
              " * Generator function which is called between each async step of the upload\n",
              " * process.\n",
              " * @param {string} inputId Element ID of the input file picker element.\n",
              " * @param {string} outputId Element ID of the output display.\n",
              " * @return {!Iterable<!Object>} Iterable of next steps.\n",
              " */\n",
              "function* uploadFilesStep(inputId, outputId) {\n",
              "  const inputElement = document.getElementById(inputId);\n",
              "  inputElement.disabled = false;\n",
              "\n",
              "  const outputElement = document.getElementById(outputId);\n",
              "  outputElement.innerHTML = '';\n",
              "\n",
              "  const pickedPromise = new Promise((resolve) => {\n",
              "    inputElement.addEventListener('change', (e) => {\n",
              "      resolve(e.target.files);\n",
              "    });\n",
              "  });\n",
              "\n",
              "  const cancel = document.createElement('button');\n",
              "  inputElement.parentElement.appendChild(cancel);\n",
              "  cancel.textContent = 'Cancel upload';\n",
              "  const cancelPromise = new Promise((resolve) => {\n",
              "    cancel.onclick = () => {\n",
              "      resolve(null);\n",
              "    };\n",
              "  });\n",
              "\n",
              "  // Wait for the user to pick the files.\n",
              "  const files = yield {\n",
              "    promise: Promise.race([pickedPromise, cancelPromise]),\n",
              "    response: {\n",
              "      action: 'starting',\n",
              "    }\n",
              "  };\n",
              "\n",
              "  cancel.remove();\n",
              "\n",
              "  // Disable the input element since further picks are not allowed.\n",
              "  inputElement.disabled = true;\n",
              "\n",
              "  if (!files) {\n",
              "    return {\n",
              "      response: {\n",
              "        action: 'complete',\n",
              "      }\n",
              "    };\n",
              "  }\n",
              "\n",
              "  for (const file of files) {\n",
              "    const li = document.createElement('li');\n",
              "    li.append(span(file.name, {fontWeight: 'bold'}));\n",
              "    li.append(span(\n",
              "        `(${file.type || 'n/a'}) - ${file.size} bytes, ` +\n",
              "        `last modified: ${\n",
              "            file.lastModifiedDate ? file.lastModifiedDate.toLocaleDateString() :\n",
              "                                    'n/a'} - `));\n",
              "    const percent = span('0% done');\n",
              "    li.appendChild(percent);\n",
              "\n",
              "    outputElement.appendChild(li);\n",
              "\n",
              "    const fileDataPromise = new Promise((resolve) => {\n",
              "      const reader = new FileReader();\n",
              "      reader.onload = (e) => {\n",
              "        resolve(e.target.result);\n",
              "      };\n",
              "      reader.readAsArrayBuffer(file);\n",
              "    });\n",
              "    // Wait for the data to be ready.\n",
              "    let fileData = yield {\n",
              "      promise: fileDataPromise,\n",
              "      response: {\n",
              "        action: 'continue',\n",
              "      }\n",
              "    };\n",
              "\n",
              "    // Use a chunked sending to avoid message size limits. See b/62115660.\n",
              "    let position = 0;\n",
              "    do {\n",
              "      const length = Math.min(fileData.byteLength - position, MAX_PAYLOAD_SIZE);\n",
              "      const chunk = new Uint8Array(fileData, position, length);\n",
              "      position += length;\n",
              "\n",
              "      const base64 = btoa(String.fromCharCode.apply(null, chunk));\n",
              "      yield {\n",
              "        response: {\n",
              "          action: 'append',\n",
              "          file: file.name,\n",
              "          data: base64,\n",
              "        },\n",
              "      };\n",
              "\n",
              "      let percentDone = fileData.byteLength === 0 ?\n",
              "          100 :\n",
              "          Math.round((position / fileData.byteLength) * 100);\n",
              "      percent.textContent = `${percentDone}% done`;\n",
              "\n",
              "    } while (position < fileData.byteLength);\n",
              "  }\n",
              "\n",
              "  // All done.\n",
              "  yield {\n",
              "    response: {\n",
              "      action: 'complete',\n",
              "    }\n",
              "  };\n",
              "}\n",
              "\n",
              "scope.google = scope.google || {};\n",
              "scope.google.colab = scope.google.colab || {};\n",
              "scope.google.colab._files = {\n",
              "  _uploadFiles,\n",
              "  _uploadFilesContinue,\n",
              "};\n",
              "})(self);\n",
              "</script> "
            ]
          },
          "metadata": {}
        },
        {
          "output_type": "stream",
          "name": "stdout",
          "text": [
            "Saving advertising.csv to advertising.csv\n"
          ]
        }
      ]
    },
    {
      "cell_type": "code",
      "source": [
        "import pandas as pd\n",
        "import numpy as np\n",
        "\n",
        "# Load your data (assumes file is in Colab, adjust if path/filename is different)\n",
        "data = pd.read_csv('advertising.csv')\n",
        "\n",
        "# Add log-transformed spending features (+1 to avoid log(0))\n",
        "data['Log_TV'] = np.log(data['TV'] + 1)\n",
        "data['Log_Radio'] = np.log(data['Radio'] + 1)\n",
        "data['Log_Newspaper'] = np.log(data['Newspaper'] + 1)\n"
      ],
      "metadata": {
        "id": "dAj8Mqj0EnEQ"
      },
      "execution_count": 5,
      "outputs": []
    },
    {
      "cell_type": "code",
      "source": [
        "from sklearn.model_selection import train_test_split\n",
        "from sklearn.linear_model import LinearRegression\n",
        "from sklearn.metrics import r2_score\n",
        "\n",
        "# Features and target\n",
        "X = data[['Log_TV', 'Log_Radio', 'Log_Newspaper']]\n",
        "y = data['Sales']\n",
        "\n",
        "# Train-test split\n",
        "X_train, X_test, y_train, y_test = train_test_split(X, y, test_size=0.2, random_state=42)\n",
        "\n",
        "# Model\n",
        "model = LinearRegression()\n",
        "model.fit(X_train, y_train)\n",
        "\n",
        "# Evaluation\n",
        "y_pred = model.predict(X_test)\n",
        "r2 = r2_score(y_test, y_pred)\n",
        "print(f'Log-Regression R^2: {r2:.3f}')\n",
        "\n",
        "# Show coefficients for interpretation\n",
        "coefs = pd.Series(model.coef_, index=X.columns)\n",
        "print(coefs)\n"
      ],
      "metadata": {
        "colab": {
          "base_uri": "https://localhost:8080/"
        },
        "id": "fNYqe1opExqD",
        "outputId": "f0d5b797-1ad3-4ee1-fd3e-928dcf1e4d05"
      },
      "execution_count": 6,
      "outputs": [
        {
          "output_type": "stream",
          "name": "stdout",
          "text": [
            "Log-Regression R^2: 0.868\n",
            "Log_TV           4.757869\n",
            "Log_Radio        1.658634\n",
            "Log_Newspaper    0.066543\n",
            "dtype: float64\n"
          ]
        }
      ]
    },
    {
      "cell_type": "code",
      "source": [
        "# Calculate residuals on the training set (actual - predicted)\n",
        "y_train_pred = model.predict(X_train)\n",
        "residuals = y_train - y_train_pred"
      ],
      "metadata": {
        "id": "LT8OZHLbFEp7"
      },
      "execution_count": 8,
      "outputs": []
    },
    {
      "cell_type": "code",
      "source": [
        "# Choose a scenario (increase TV by 20% in X_test)\n",
        "scenario = X_test.copy()\n",
        "scenario['Log_TV'] = np.log(np.exp(scenario['Log_TV']) * 1.2)\n",
        "\n",
        "# Or: Single-mean scenario for more illustrative reporting\n",
        "avg_tv = np.mean(data['TV'])\n",
        "avg_radio = np.mean(data['Radio'])\n",
        "avg_newsp = np.mean(data['Newspaper'])\n",
        "\n",
        "log_tv_20up = np.log(avg_tv * 1.2 + 1)\n",
        "log_radio = np.log(avg_radio + 1)\n",
        "log_newsp = np.log(avg_newsp + 1)\n",
        "\n",
        "input_vector = np.array([[log_tv_20up, log_radio, log_newsp]])\n"
      ],
      "metadata": {
        "id": "cKWf-SSOFJOo"
      },
      "execution_count": 10,
      "outputs": []
    },
    {
      "cell_type": "code",
      "source": [
        "n_simulations = 1000  # or more for smoothness\n",
        "\n",
        "# For batch scenarios:\n",
        "pred_sales = model.predict(scenario)\n",
        "\n",
        "# Sample random residuals\n",
        "simulated_sales_mc = []\n",
        "for pred in pred_sales:\n",
        "    draws = np.random.choice(residuals, size=n_simulations, replace=True)\n",
        "    simulated_sales_mc.append(pred + draws)\n",
        "simulated_sales_mc = np.array(simulated_sales_mc)  # shape = (n_cases, n_simulations)\n",
        "\n",
        "# For a single scenario:\n",
        "pred_single = model.predict(input_vector)[0]\n",
        "draws = np.random.choice(residuals, size=n_simulations, replace=True)\n",
        "simulated_sales_single = pred_single + draws\n",
        "\n",
        "# Summarize\n",
        "mean_sales = np.mean(simulated_sales_single)\n",
        "median_sales = np.median(simulated_sales_single)\n",
        "lower = np.percentile(simulated_sales_single, 5)\n",
        "upper = np.percentile(simulated_sales_single, 95)\n",
        "\n",
        "print(f\"For avg scenario with 20% higher TV spend:\")\n",
        "print(f\"  Mean sales: {mean_sales:.2f}\")\n",
        "print(f\"  Median sales: {median_sales:.2f}\")\n",
        "print(f\"  90% interval: [{lower:.2f}, {upper:.2f}]\")\n"
      ],
      "metadata": {
        "colab": {
          "base_uri": "https://localhost:8080/"
        },
        "id": "BvhtUundFVFy",
        "outputId": "c3916d71-5109-4ad0-b9c7-8e1a0c9312be"
      },
      "execution_count": 11,
      "outputs": [
        {
          "output_type": "stream",
          "name": "stdout",
          "text": [
            "For avg scenario with 20% higher TV spend:\n",
            "  Mean sales: 18.03\n",
            "  Median sales: 17.92\n",
            "  90% interval: [14.86, 21.73]\n"
          ]
        },
        {
          "output_type": "stream",
          "name": "stderr",
          "text": [
            "/usr/local/lib/python3.11/dist-packages/sklearn/utils/validation.py:2739: UserWarning: X does not have valid feature names, but LinearRegression was fitted with feature names\n",
            "  warnings.warn(\n"
          ]
        }
      ]
    },
    {
      "cell_type": "code",
      "source": [
        "import matplotlib.pyplot as plt\n",
        "\n",
        "plt.hist(simulated_sales_single, bins=30, color='skyblue', edgecolor='k')\n",
        "plt.title(\"Simulated Sales Distribution (90% interval shaded)\")\n",
        "plt.axvline(lower, color='red', linestyle='dashed', label='5th/95th percentile')\n",
        "plt.axvline(upper, color='red', linestyle='dashed')\n",
        "plt.xlabel('Sales')\n",
        "plt.ylabel('Frequency')\n",
        "plt.legend()\n",
        "plt.show()\n"
      ],
      "metadata": {
        "colab": {
          "base_uri": "https://localhost:8080/",
          "height": 472
        },
        "id": "Qv2HIW5rFu05",
        "outputId": "0daba2fe-7d47-4a09-e5b6-914778762ff9"
      },
      "execution_count": 12,
      "outputs": [
        {
          "output_type": "display_data",
          "data": {
            "text/plain": [
              "<Figure size 640x480 with 1 Axes>"
            ],
            "image/png": "[encoded data removed]"
          },
          "metadata": {}
        }
      ]
    },
    {
      "cell_type": "code",
      "source": [
        "import numpy as np\n",
        "from scipy.optimize import minimize\n",
        "\n",
        "# Total budget for allocation\n",
        "total_budget = 100\n",
        "\n",
        "# Residuals from earlier step (model errors)\n",
        "# Your residuals variable must be from the nonlinear model residuals, calculated earlier\n",
        "# Example if needed:\n",
        "# y_train_pred = model.predict(X_train)\n",
        "# residuals = y_train - y_train_pred\n",
        "\n",
        "# Function to predict mean simulated sales for given budget weights\n",
        "def mean_simulated_sales(weights):\n",
        "    # weights = [w_tv, w_radio, w_newspaper], sum to 1\n",
        "    spend = np.array(weights) * total_budget\n",
        "\n",
        "    # Convert to log scale inputs (+1 inside log for zero spend handled)\n",
        "    log_spend = np.log(spend + 1)\n",
        "\n",
        "    # Prepare input vector for prediction (shape 1x3)\n",
        "    input_vec = log_spend.reshape(1, -1)\n",
        "\n",
        "    # Predict mean sales using the model\n",
        "    pred_mean = model.predict(input_vec)[0]\n",
        "\n",
        "    # Monte Carlo: simulate residual draws and estimate mean simulated sales\n",
        "    draws = np.random.choice(residuals, size=1000, replace=True)\n",
        "    simulated = pred_mean + draws\n",
        "    return -np.mean(simulated)  # Negative to maximize sales later via minimize()\n",
        "\n",
        "# Constraints: weights sum to 1\n",
        "constraints = {'type': 'eq', 'fun': lambda w: np.sum(w) - 1}\n",
        "\n",
        "# Bounds: between 0.1 (10%) and 0.8 (80%) spend per channel to keep realistic allocations\n",
        "bounds = [(0.1, 0.8), (0.1, 0.8), (0.1, 0.8)]\n",
        "\n",
        "# Initial guess: equal split\n",
        "initial_guess = [1/3, 1/3, 1/3]\n",
        "\n",
        "# Run optimization\n",
        "result = minimize(mean_simulated_sales, initial_guess, bounds=bounds, constraints=constraints, method='SLSQP')\n",
        "\n",
        "optimal_weights = result.x\n",
        "optimal_spend = optimal_weights * total_budget\n",
        "\n",
        "# Calculate predicted sales and uncertainty for optimal spend\n",
        "log_optimal_spend = np.log(optimal_spend + 1).reshape(1, -1)\n",
        "pred_opt_mean = model.predict(log_optimal_spend)[0]\n",
        "draws_opt = np.random.choice(residuals, size=1000, replace=True)\n",
        "simulated_opt = pred_opt_mean + draws_opt\n",
        "\n",
        "mean_opt = np.mean(simulated_opt)\n",
        "median_opt = np.median(simulated_opt)\n",
        "lower_opt = np.percentile(simulated_opt, 5)\n",
        "upper_opt = np.percentile(simulated_opt, 95)\n",
        "\n",
        "# Print results\n",
        "print(f\"Optimal budget allocation (TV, Radio, Newspaper): {optimal_weights*100}\")\n",
        "print(f\"Predicted sales at optimal allocation:\")\n",
        "print(f\"  Mean sales: {mean_opt:.2f}\")\n",
        "print(f\"  Median sales: {median_opt:.2f}\")\n",
        "print(f\"  90% interval: [{lower_opt:.2f}, {upper_opt:.2f}]\")\n",
        "\n",
        "# Optional: bar chart visualization\n",
        "import matplotlib.pyplot as plt\n",
        "channels = ['TV', 'Radio', 'Newspaper']\n",
        "plt.bar(channels, optimal_weights*100, color='teal')\n",
        "plt.ylabel('Budget Allocation (%)')\n",
        "plt.title('Optimal Marketing Budget Allocation')\n",
        "plt.show()\n"
      ],
      "metadata": {
        "colab": {
          "base_uri": "https://localhost:8080/",
          "height": 740
        },
        "id": "NdDTyBKIHJ-I",
        "outputId": "d878b488-dd92-4a73-c373-b3b8d11ec928"
      },
      "execution_count": 13,
      "outputs": [
        {
          "output_type": "stream",
          "name": "stderr",
          "text": [
            "/usr/local/lib/python3.11/dist-packages/sklearn/utils/validation.py:2739: UserWarning: X does not have valid feature names, but LinearRegression was fitted with feature names\n",
            "  warnings.warn(\n",
            "/usr/local/lib/python3.11/dist-packages/sklearn/utils/validation.py:2739: UserWarning: X does not have valid feature names, but LinearRegression was fitted with feature names\n",
            "  warnings.warn(\n",
            "/usr/local/lib/python3.11/dist-packages/sklearn/utils/validation.py:2739: UserWarning: X does not have valid feature names, but LinearRegression was fitted with feature names\n",
            "  warnings.warn(\n",
            "/usr/local/lib/python3.11/dist-packages/sklearn/utils/validation.py:2739: UserWarning: X does not have valid feature names, but LinearRegression was fitted with feature names\n",
            "  warnings.warn(\n",
            "/usr/local/lib/python3.11/dist-packages/sklearn/utils/validation.py:2739: UserWarning: X does not have valid feature names, but LinearRegression was fitted with feature names\n",
            "  warnings.warn(\n"
          ]
        },
        {
          "output_type": "stream",
          "name": "stdout",
          "text": [
            "Optimal budget allocation (TV, Radio, Newspaper): [33.33333333 33.33333333 33.33333333]\n",
            "Predicted sales at optimal allocation:\n",
            "  Mean sales: 10.70\n",
            "  Median sales: 10.50\n",
            "  90% interval: [7.56, 14.82]\n"
          ]
        },
        {
          "output_type": "display_data",
          "data": {
            "text/plain": [
              "<Figure size 640x480 with 1 Axes>"
            ],
            "image/png": "[encoded data removed]"
          },
          "metadata": {}
        }
      ]
    },
    {
      "cell_type": "code",
      "source": [
        "import pandas as pd\n",
        "pd.DataFrame({\n",
        "    'Channel': ['TV', 'Radio', 'Newspaper'],\n",
        "    'Optimal %': optimal_weights*100\n",
        "}).to_excel('optimal_budget_alloc.xlsx', index=False)\n"
      ],
      "metadata": {
        "id": "7rlGaOXWHkaH"
      },
      "execution_count": 14,
      "outputs": []
    },
    {
      "cell_type": "code",
      "source": [
        "import pandas as pd\n",
        "\n",
        "# Prepare summary dataframe\n",
        "summary = pd.DataFrame({\n",
        "    'Channel': ['TV', 'Radio', 'Newspaper'],\n",
        "    'Optimal % Allocation': optimal_weights * 100,\n",
        "    'Optimal $ Allocation': optimal_spend\n",
        "})\n",
        "\n",
        "# Add sales forecast and uncertainty as extra rows\n",
        "sales_metrics = pd.DataFrame({\n",
        "    'Channel': ['Predicted Mean Sales', 'Predicted Median Sales', '90% Sales Interval (Lower)', '90% Sales Interval (Upper)'],\n",
        "    'Optimal % Allocation': [mean_opt, median_opt, lower_opt, upper_opt],\n",
        "    'Optimal $ Allocation': ['', '', '', '']\n",
        "})\n",
        "\n",
        "# Concatenate for full report\n",
        "export_report = pd.concat([summary, sales_metrics], ignore_index=True)\n",
        "\n",
        "# Export to Excel\n",
        "export_report.to_excel('optimal_budget_simulation.xlsx', index=False)\n",
        "print(\"Excel report saved as optimal_budget_simulation.xlsx\")\n",
        "\n",
        "# Download in Colab (add these lines if you want to instantly download)\n",
        "from google.colab import files\n",
        "files.download('optimal_budget_simulation.xlsx')\n",
        "\n"
      ],
      "metadata": {
        "colab": {
          "base_uri": "https://localhost:8080/",
          "height": 35
        },
        "id": "Oj8QgQjXIByv",
        "outputId": "6ffab01f-ffd0-4d0d-c9ba-80f16313dd43"
      },
      "execution_count": 15,
      "outputs": [
        {
          "output_type": "stream",
          "name": "stdout",
          "text": [
            "Excel report saved as optimal_budget_simulation.xlsx\n"
          ]
        },
        {
          "output_type": "display_data",
          "data": {
            "text/plain": [
              "<IPython.core.display.Javascript object>"
            ],
            "application/javascript": [
              "\n",
              "    async function download(id, filename, size) {\n",
              "      if (!google.colab.kernel.accessAllowed) {\n",
              "        return;\n",
              "      }\n",
              "      const div = document.createElement('div');\n",
              "      const label = document.createElement('label');\n",
              "      label.textContent = `Downloading \"${filename}\": `;\n",
              "      div.appendChild(label);\n",
              "      const progress = document.createElement('progress');\n",
              "      progress.max = size;\n",
              "      div.appendChild(progress);\n",
              "      document.body.appendChild(div);\n",
              "\n",
              "      const buffers = [];\n",
              "      let downloaded = 0;\n",
              "\n",
              "      const channel = await google.colab.kernel.comms.open(id);\n",
              "      // Send a message to notify the kernel that we're ready.\n",
              "      channel.send({})\n",
              "\n",
              "      for await (const message of channel.messages) {\n",
              "        // Send a message to notify the kernel that we're ready.\n",
              "        channel.send({})\n",
              "        if (message.buffers) {\n",
              "          for (const buffer of message.buffers) {\n",
              "            buffers.push(buffer);\n",
              "            downloaded += buffer.byteLength;\n",
              "            progress.value = downloaded;\n",
              "          }\n",
              "        }\n",
              "      }\n",
              "      const blob = new Blob(buffers, {type: 'application/binary'});\n",
              "      const a = document.createElement('a');\n",
              "      a.href = window.URL.createObjectURL(blob);\n",
              "      a.download = filename;\n",
              "      div.appendChild(a);\n",
              "      a.click();\n",
              "      div.remove();\n",
              "    }\n",
              "  "
            ]
          },
          "metadata": {}
        },
        {
          "output_type": "display_data",
          "data": {
            "text/plain": [
              "<IPython.core.display.Javascript object>"
            ],
            "application/javascript": [
              "download(\"download_1ad9e47e-e7ed-46e0-8a0c-7f972fda8446\", \"optimal_budget_simulation.xlsx\", 5183)"
            ]
          },
          "metadata": {}
        }
      ]
    }
  ]
}